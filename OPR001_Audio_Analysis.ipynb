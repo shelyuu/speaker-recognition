{
 "cells": [
  {
   "cell_type": "markdown",
   "metadata": {},
   "source": [
    "# Audio Analysis of FLAC Files\n",
    "This notebook analyzes FLAC audio files to extract features such as bitrate, amplitude, and more, and then plots them to give a basic overview of the audio format."
   ]
  },
  {
   "cell_type": "code",
   "execution_count": 30,
   "metadata": {},
   "outputs": [],
   "source": [
    "import os\n",
    "import librosa\n",
    "import matplotlib.pyplot as plt\n",
    "import numpy as np\n",
    "import pandas as pd\n",
    "from pydub import AudioSegment\n"
   ]
  },
  {
   "cell_type": "markdown",
   "metadata": {},
   "source": [
    "## Function to Extract Audio Features\n",
    "This function will extract features such as bitrate, amplitude, and more from FLAC files."
   ]
  },
  {
   "cell_type": "code",
   "execution_count": 31,
   "metadata": {},
   "outputs": [],
   "source": [
    "def extract_audio_features(file_path):\n",
    "    # Load audio file\n",
    "    print(file_path)\n",
    "    audio = AudioSegment.from_file(file_path, format='flac')\n",
    "    y, sr = librosa.load(file_path, sr=None)\n",
    "    \n",
    "    # Audio features\n",
    "    features = {}\n",
    "    features['filename'] = os.path.basename(file_path)\n",
    "    features['duration'] = audio.duration_seconds\n",
    "    features['channels'] = audio.channels\n",
    "    features['frame_rate'] = audio.frame_rate\n",
    "    features['frame_width'] = audio.frame_width\n",
    "    features['bitrate'] = audio.frame_rate * audio.frame_width * 8\n",
    "    \n",
    "    # Amplitude\n",
    "    features['amplitude'] = np.mean(np.abs(y))\n",
    "    \n",
    "    # Root Mean Square\n",
    "    features['rms'] = np.mean(librosa.feature.rms(y=y).T, axis=0)\n",
    "    \n",
    "    # Zero Crossing Rate\n",
    "    features['zcr'] = np.mean(librosa.feature.zero_crossing_rate(y).T, axis=0)\n",
    "    \n",
    "    # Spectral Centroid\n",
    "    features['spectral_centroid'] = np.mean(librosa.feature.spectral_centroid(y=y, sr=sr).T, axis=0)\n",
    "    \n",
    "    return features"
   ]
  },
  {
   "cell_type": "markdown",
   "metadata": {},
   "source": [
    "## Load and Analyze Multiple FLAC Files\n",
    "This code will load multiple FLAC files from a directory and extract features from each file."
   ]
  },
  {
   "cell_type": "code",
   "execution_count": 32,
   "metadata": {},
   "outputs": [
    {
     "data": {
      "text/html": [
       "<div>\n",
       "<style scoped>\n",
       "    .dataframe tbody tr th:only-of-type {\n",
       "        vertical-align: middle;\n",
       "    }\n",
       "\n",
       "    .dataframe tbody tr th {\n",
       "        vertical-align: top;\n",
       "    }\n",
       "\n",
       "    .dataframe thead th {\n",
       "        text-align: right;\n",
       "    }\n",
       "</style>\n",
       "<table border=\"1\" class=\"dataframe\">\n",
       "  <thead>\n",
       "    <tr style=\"text-align: right;\">\n",
       "      <th></th>\n",
       "    </tr>\n",
       "  </thead>\n",
       "  <tbody>\n",
       "  </tbody>\n",
       "</table>\n",
       "</div>"
      ],
      "text/plain": [
       "Empty DataFrame\n",
       "Columns: []\n",
       "Index: []"
      ]
     },
     "execution_count": 32,
     "metadata": {},
     "output_type": "execute_result"
    }
   ],
   "source": [
    "speaker = \"2\"\n",
    "database_name = \"Mendeley Data\\differentPhrase\"\n",
    "dataset_path = f\"audio\\speakers\\{database_name}\"\n",
    "\n",
    "count = 0\n",
    "audio_features = []\n",
    "\n",
    "for speaker in os.listdir(dataset_path):\n",
    "    speaker_path = os.path.join(dataset_path, speaker)\n",
    "    if os.path.isdir(speaker_path):\n",
    "        for file_name in os.listdir(speaker_path):\n",
    "            file_path = os.path.join(speaker_path, file_name)\n",
    "            if file_path.endswith('.flac') and count == 2:\n",
    "                audio = AudioSegment.from_file(file_path, format='flac')\n",
    "                print(audio.duration_seconds)\n",
    "                # features = extract_audio_features(file_path)\n",
    "                # audio_features.append(features)\n",
    "                count+=1\n",
    "\n",
    "df_features = pd.DataFrame(audio_features)\n",
    "df_features.head()"
   ]
  },
  {
   "cell_type": "code",
   "execution_count": null,
   "metadata": {},
   "outputs": [],
   "source": []
  },
  {
   "cell_type": "markdown",
   "metadata": {},
   "source": [
    "## Plotting Audio Features\n",
    "This section will plot the extracted audio features for better visualization."
   ]
  },
  {
   "cell_type": "code",
   "execution_count": 7,
   "metadata": {},
   "outputs": [
    {
     "ename": "KeyError",
     "evalue": "'duration'",
     "output_type": "error",
     "traceback": [
      "\u001b[1;31m---------------------------------------------------------------------------\u001b[0m",
      "\u001b[1;31mKeyError\u001b[0m                                  Traceback (most recent call last)",
      "Cell \u001b[1;32mIn[7], line 3\u001b[0m\n\u001b[0;32m      1\u001b[0m \u001b[38;5;66;03m# Plot duration\u001b[39;00m\n\u001b[0;32m      2\u001b[0m plt\u001b[38;5;241m.\u001b[39mfigure(figsize\u001b[38;5;241m=\u001b[39m(\u001b[38;5;241m10\u001b[39m, \u001b[38;5;241m6\u001b[39m))\n\u001b[1;32m----> 3\u001b[0m plt\u001b[38;5;241m.\u001b[39mhist(\u001b[43mdf_features\u001b[49m\u001b[43m[\u001b[49m\u001b[38;5;124;43m'\u001b[39;49m\u001b[38;5;124;43mduration\u001b[39;49m\u001b[38;5;124;43m'\u001b[39;49m\u001b[43m]\u001b[49m, bins\u001b[38;5;241m=\u001b[39m\u001b[38;5;241m20\u001b[39m, color\u001b[38;5;241m=\u001b[39m\u001b[38;5;124m'\u001b[39m\u001b[38;5;124mblue\u001b[39m\u001b[38;5;124m'\u001b[39m, alpha\u001b[38;5;241m=\u001b[39m\u001b[38;5;241m0.7\u001b[39m)\n\u001b[0;32m      4\u001b[0m plt\u001b[38;5;241m.\u001b[39mtitle(\u001b[38;5;124m'\u001b[39m\u001b[38;5;124mAudio Duration Distribution\u001b[39m\u001b[38;5;124m'\u001b[39m)\n\u001b[0;32m      5\u001b[0m plt\u001b[38;5;241m.\u001b[39mxlabel(\u001b[38;5;124m'\u001b[39m\u001b[38;5;124mDuration (seconds)\u001b[39m\u001b[38;5;124m'\u001b[39m)\n",
      "File \u001b[1;32me:\\_BILI\\_PROJECTS\\_pythons\\ai\\speaker-recognition\\.venv\\Lib\\site-packages\\pandas\\core\\frame.py:4102\u001b[0m, in \u001b[0;36mDataFrame.__getitem__\u001b[1;34m(self, key)\u001b[0m\n\u001b[0;32m   4100\u001b[0m \u001b[38;5;28;01mif\u001b[39;00m \u001b[38;5;28mself\u001b[39m\u001b[38;5;241m.\u001b[39mcolumns\u001b[38;5;241m.\u001b[39mnlevels \u001b[38;5;241m>\u001b[39m \u001b[38;5;241m1\u001b[39m:\n\u001b[0;32m   4101\u001b[0m     \u001b[38;5;28;01mreturn\u001b[39;00m \u001b[38;5;28mself\u001b[39m\u001b[38;5;241m.\u001b[39m_getitem_multilevel(key)\n\u001b[1;32m-> 4102\u001b[0m indexer \u001b[38;5;241m=\u001b[39m \u001b[38;5;28;43mself\u001b[39;49m\u001b[38;5;241;43m.\u001b[39;49m\u001b[43mcolumns\u001b[49m\u001b[38;5;241;43m.\u001b[39;49m\u001b[43mget_loc\u001b[49m\u001b[43m(\u001b[49m\u001b[43mkey\u001b[49m\u001b[43m)\u001b[49m\n\u001b[0;32m   4103\u001b[0m \u001b[38;5;28;01mif\u001b[39;00m is_integer(indexer):\n\u001b[0;32m   4104\u001b[0m     indexer \u001b[38;5;241m=\u001b[39m [indexer]\n",
      "File \u001b[1;32me:\\_BILI\\_PROJECTS\\_pythons\\ai\\speaker-recognition\\.venv\\Lib\\site-packages\\pandas\\core\\indexes\\range.py:417\u001b[0m, in \u001b[0;36mRangeIndex.get_loc\u001b[1;34m(self, key)\u001b[0m\n\u001b[0;32m    415\u001b[0m         \u001b[38;5;28;01mraise\u001b[39;00m \u001b[38;5;167;01mKeyError\u001b[39;00m(key) \u001b[38;5;28;01mfrom\u001b[39;00m \u001b[38;5;21;01merr\u001b[39;00m\n\u001b[0;32m    416\u001b[0m \u001b[38;5;28;01mif\u001b[39;00m \u001b[38;5;28misinstance\u001b[39m(key, Hashable):\n\u001b[1;32m--> 417\u001b[0m     \u001b[38;5;28;01mraise\u001b[39;00m \u001b[38;5;167;01mKeyError\u001b[39;00m(key)\n\u001b[0;32m    418\u001b[0m \u001b[38;5;28mself\u001b[39m\u001b[38;5;241m.\u001b[39m_check_indexing_error(key)\n\u001b[0;32m    419\u001b[0m \u001b[38;5;28;01mraise\u001b[39;00m \u001b[38;5;167;01mKeyError\u001b[39;00m(key)\n",
      "\u001b[1;31mKeyError\u001b[0m: 'duration'"
     ]
    },
    {
     "data": {
      "text/plain": [
       "<Figure size 1000x600 with 0 Axes>"
      ]
     },
     "metadata": {},
     "output_type": "display_data"
    }
   ],
   "source": [
    "# Plot duration\n",
    "plt.figure(figsize=(10, 6))\n",
    "plt.hist(df_features['duration'], bins=20, color='blue', alpha=0.7)\n",
    "plt.title('Audio Duration Distribution')\n",
    "plt.xlabel('Duration (seconds)')\n",
    "plt.ylabel('Frequency')\n",
    "plt.grid(True)\n",
    "plt.show()\n",
    "\n",
    "# Plot amplitude\n",
    "plt.figure(figsize=(10, 6))\n",
    "plt.hist(df_features['amplitude'], bins=20, color='green', alpha=0.7)\n",
    "plt.title('Amplitude Distribution')\n",
    "plt.xlabel('Amplitude')\n",
    "plt.ylabel('Frequency')\n",
    "plt.grid(True)\n",
    "plt.show()\n",
    "\n",
    "# Plot RMS\n",
    "plt.figure(figsize=(10, 6))\n",
    "plt.hist(df_features['rms'], bins=20, color='red', alpha=0.7)\n",
    "plt.title('RMS Energy Distribution')\n",
    "plt.xlabel('RMS Energy')\n",
    "plt.ylabel('Frequency')\n",
    "plt.grid(True)\n",
    "plt.show()\n",
    "\n",
    "# Plot Zero Crossing Rate\n",
    "plt.figure(figsize=(10, 6))\n",
    "plt.hist(df_features['zcr'], bins=20, color='purple', alpha=0.7)\n",
    "plt.title('Zero Crossing Rate Distribution')\n",
    "plt.xlabel('Zero Crossing Rate')\n",
    "plt.ylabel('Frequency')\n",
    "plt.grid(True)\n",
    "plt.show()\n",
    "\n",
    "# Plot Spectral Centroid\n",
    "plt.figure(figsize=(10, 6))\n",
    "plt.hist(df_features['spectral_centroid'], bins=20, color='orange', alpha=0.7)\n",
    "plt.title('Spectral Centroid Distribution')\n",
    "plt.xlabel('Spectral Centroid')\n",
    "plt.ylabel('Frequency')\n",
    "plt.grid(True)\n",
    "plt.show()"
   ]
  },
  {
   "cell_type": "markdown",
   "metadata": {},
   "source": [
    "## Save Features to CSV\n",
    "Finally, save the extracted features to a CSV file for later use in machine learning tasks."
   ]
  },
  {
   "cell_type": "code",
   "execution_count": null,
   "metadata": {},
   "outputs": [],
   "source": [
    "df_features.to_csv('data/audio_features.csv', index=False)\n",
    "print('Audio features saved to audio_features.csv')"
   ]
  }
 ],
 "metadata": {
  "kernelspec": {
   "display_name": "Python 3",
   "language": "python",
   "name": "python3"
  },
  "language_info": {
   "codemirror_mode": {
    "name": "ipython",
    "version": 3
   },
   "file_extension": ".py",
   "mimetype": "text/x-python",
   "name": "python",
   "nbconvert_exporter": "python",
   "pygments_lexer": "ipython3",
   "version": "3.11.4"
  }
 },
 "nbformat": 4,
 "nbformat_minor": 4
}
